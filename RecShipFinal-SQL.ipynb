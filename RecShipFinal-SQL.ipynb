{
 "cells": [
  {
   "cell_type": "code",
   "execution_count": 1,
   "metadata": {},
   "outputs": [
    {
     "name": "stderr",
     "output_type": "stream",
     "text": [
      "C:\\Anaconda3\\lib\\site-packages\\statsmodels\\compat\\pandas.py:56: FutureWarning: The pandas.core.datetools module is deprecated and will be removed in a future version. Please use the pandas.tseries module instead.\n",
      "  from pandas.core import datetools\n"
     ]
    }
   ],
   "source": [
    "import numpy as np\n",
    "import pandas as pd\n",
    "import matplotlib.pyplot as plt\n",
    "%matplotlib inline\n",
    "from sklearn.linear_model import LinearRegression\n",
    "import statsmodels.api as sm\n",
    "import seaborn as sns\n",
    "sns.set()\n",
    "from sklearn.cluster import KMeans\n"
   ]
  },
  {
   "cell_type": "code",
   "execution_count": 2,
   "metadata": {},
   "outputs": [
    {
     "name": "stdout",
     "output_type": "stream",
     "text": [
      "8.3.0\n",
      "C:\\Anaconda3\\python.exe\n",
      "3.6.1 |Anaconda 4.4.0 (64-bit)| (default, May 11 2017, 13:25:24) [MSC v.1900 64 bit (AMD64)]\n",
      "sys.version_info(major=3, minor=6, micro=1, releaselevel='final', serial=0)\n",
      "ARCH: ('64bit', 'WindowsPE')\n",
      "FILES AT lib_dir:\n",
      "adrci.exe adrci.sym BASIC_LICENSE BASIC_README genezi.exe genezi.sym network oci.dll oci.sym ocijdbc21.dll ocijdbc21.sym ociw32.dll ociw32.sym ojdbc8.jar oramysql.dll oramysql.sym orannzsbb.dll orannzsbb.sym oraocci21.dll oraocci21.sym oraocci21d.dll oraocci21d.sym oraociei.dll oraociei.sym orasql.dll orasql.sym ucp.jar uidrvci.exe uidrvci.sym xstreams.jar \n"
     ]
    },
    {
     "data": {
      "text/plain": [
       "(21, 6, 0, 0, 0)"
      ]
     },
     "execution_count": 2,
     "metadata": {},
     "output_type": "execute_result"
    }
   ],
   "source": [
    "import cx_Oracle\n",
    "print(cx_Oracle.version)\n",
    "#check the Oracle Version using: select * from v$version\n",
    "import sys\n",
    "print(sys.executable)\n",
    "print(sys.version)\n",
    "print(sys.version_info)\n",
    "#follow this link to solove issue: cx_Oracle error. DPI-1047: Cannot locate a 64-bit Oracle Client library\n",
    "# https://stackoverflow.com/questions/56119490/cx-oracle-error-dpi-1047-cannot-locate-a-64-bit-oracle-client-library?answertab=trending#tab-top\n",
    "import os\n",
    "import platform\n",
    "# This is the path to the ORACLE client files\n",
    "lib_dir = r\"C:\\Users\\adam.blaine\\Documents\\instantclient-basic-windows.x64-21.6.0.0.0dbru\\instantclient_21_6\"\n",
    "\n",
    "# Diagnostic output to verify 64 bit arch and list files\n",
    "print(\"ARCH:\", platform.architecture())\n",
    "print(\"FILES AT lib_dir:\")\n",
    "name_string = \"\"\n",
    "for name in os.listdir(lib_dir):\n",
    "    name_string = name_string + name + \" \"\n",
    "print(name_string)\n",
    "\n",
    "#you just need to run the following snipet for once, thats why I comment them out since I have ran this    \n",
    "try:\n",
    "    cx_Oracle.init_oracle_client(lib_dir=lib_dir)\n",
    "except Exception as err:\n",
    "    print(\"Error connecting: cx_Oracle.init_oracle_client()\")\n",
    "    print(err);\n",
    "    sys.exit(1);\n",
    "\n",
    "cx_Oracle.clientversion()"
   ]
  },
  {
   "cell_type": "code",
   "execution_count": 3,
   "metadata": {
    "collapsed": true
   },
   "outputs": [],
   "source": [
    "from sqlalchemy.engine import create_engine\n",
    "import numpy as np\n",
    "DIALECT = 'oracle'\n",
    "SQL_DRIVER = 'cx_oracle'\n",
    "USERNAME = \"ablaine\" #enter your username\n",
    "PASSWORD = \"fUtk!n8MgYGSKUnJ\" #enter your password\n",
    "HOST = \"p9cpwpjdadb01\" #enter the oracle db host url\n",
    "PORT = 25959 # enter the oracle port number\n",
    "SERVICE = \"FR01PR\" # enter the oracle db service name\n",
    "ENGINE_PATH_WIN_AUTH = DIALECT + '+' + SQL_DRIVER + '://' + USERNAME + ':' + PASSWORD +'@' + HOST + ':' + str(PORT) + '/?service_name=' + SERVICE\n",
    "\n",
    "engine = create_engine(ENGINE_PATH_WIN_AUTH)\n",
    "\n",
    "#test query\n",
    "\n",
    "db = pd.read_sql_query('''\n",
    "Select i.U_CATEGORY,i.U_COMMODITY, i.u_style, i.u_choice, i.U_SPECIFICCOLORNAME, i.U_SIZE_ONE, R.ITEM, r.source, r.dest, r.QTY, R.ORDERPLACEDATE,r.SCHEDARRIVDATE, s.OH ,dmd.u_permretailprice retail\n",
    ", (SELECT SUM(nvl(f.qty,0)) FROM scpomgr.cds_fcstview f where f.dmdunit = s.item and f.loc = s.loc and f.startdate between sysdate - 7 and sysdate +42) \"total fcst\"\n",
    "from SCPOMGR.recship r\n",
    "inner join SCPOMGR.item i on i.item = r.item\n",
    "INNER JOIN SCPOMGR.SKU S ON S.ITEM = r.ITEM AND S.LOC = r.dest\n",
    "inner join SCPOMGR.dmdunit dmd on i.item = dmd.dmdunit\n",
    "where\n",
    "i.u_style in ('S_1200BZ',\n",
    "'S_28116A',\n",
    "'S_28117A',\n",
    "'S_28118A',\n",
    "'S_28154A',\n",
    "'S_28155A',\n",
    "'S_67181',\n",
    "'S_67182',\n",
    "'S_67479-HH',\n",
    "'S_67482',\n",
    "'S_6ARCDHASCBOGOF1',\n",
    "'S_6ARCDHASCBOGOF9',\n",
    "'S_6ARDHHAS1064053',\n",
    "'S_6AREDHASHBSPTS2',\n",
    "'S_75729',\n",
    "'S_79645',\n",
    "'S_79646'\n",
    ")\n",
    "and R.source IN ('000155','000350')--'V100033'\n",
    "--and r.dest in ('000357','000534','000536','000540') \n",
    "and R.ORDERPLACEDATE between TO_DATE('2022-07-03','YYYY-MM-DD') and TO_DATE('2022-08-03','YYYY-MM-DD') \n",
    "''', engine)\n",
    "\n",
    "#dont forget to close the engine to release the resource you have used on the server.\n",
    "engine.dispose()"
   ]
  },
  {
   "cell_type": "code",
   "execution_count": 4,
   "metadata": {
    "collapsed": true
   },
   "outputs": [],
   "source": [
    "db.columns = db.columns.str.upper()"
   ]
  },
  {
   "cell_type": "code",
   "execution_count": 5,
   "metadata": {
    "collapsed": true,
    "scrolled": true
   },
   "outputs": [],
   "source": [
    "db.sort_values(by=['DEST',  'ITEM','ORDERPLACEDATE'], ascending = [True, True, True], inplace=True )\n",
    "db = db.reset_index(drop=True)"
   ]
  },
  {
   "cell_type": "code",
   "execution_count": 6,
   "metadata": {
    "collapsed": true
   },
   "outputs": [],
   "source": [
    "db['GAP'] = db.groupby(['DEST', 'ITEM'])['ORDERPLACEDATE'].diff()\n"
   ]
  },
  {
   "cell_type": "code",
   "execution_count": 7,
   "metadata": {
    "collapsed": true
   },
   "outputs": [],
   "source": [
    "db['QTY'] = db['QTY'].astype('int64')\n",
    "db['OH'] = db['OH'].astype('int64')\n",
    "db['total fcst'] = db['total fcst'].astype('int64')\n"
   ]
  },
  {
   "cell_type": "code",
   "execution_count": 8,
   "metadata": {
    "collapsed": true,
    "scrolled": true
   },
   "outputs": [],
   "source": [
    "db['GAP'] =db['GAP'].fillna(0)\n",
    "# db.fillna(pd.Timedelta('0 days')) #For newer versions of pandas"
   ]
  },
  {
   "cell_type": "code",
   "execution_count": 9,
   "metadata": {
    "collapsed": true
   },
   "outputs": [],
   "source": [
    "db.GAP = (db.GAP / np.timedelta64(1,'D')).astype(int)\n"
   ]
  },
  {
   "cell_type": "code",
   "execution_count": 10,
   "metadata": {
    "collapsed": true,
    "scrolled": true
   },
   "outputs": [],
   "source": [
    "db['SUPPLY'] =  round(db['OH'] / ((db['total fcst']+0.0001) / 7) , 2)\n"
   ]
  },
  {
   "cell_type": "code",
   "execution_count": 11,
   "metadata": {
    "collapsed": true,
    "scrolled": true
   },
   "outputs": [],
   "source": [
    "db['STATUS'] = 'Original'\n"
   ]
  },
  {
   "cell_type": "code",
   "execution_count": 12,
   "metadata": {
    "collapsed": true,
    "scrolled": true
   },
   "outputs": [],
   "source": [
    "\n",
    "db['2W Prior'] = np.where((db.loc[:,'GAP']< 14) & (db.loc[:,'GAP'] > 0), True, False)\n",
    "db['1W Prior'] = np.where((db['GAP']< 8) & (db.loc[:,'GAP'] > 0), True, False)\n",
    "db['2W lowQ'] = np.where((db['GAP']< 14) & (db['QTY'] < 4) & (db.loc[:,'GAP'] > 0), True, False)\n",
    "db['1W lowQ'] = np.where((db['GAP']< 8) & (db['QTY'] < 4) & (db.loc[:,'GAP'] > 0), True, False)\n"
   ]
  },
  {
   "cell_type": "code",
   "execution_count": 13,
   "metadata": {
    "collapsed": true,
    "scrolled": true
   },
   "outputs": [],
   "source": [
    "\n",
    "db1 = db.copy()\n",
    "for i in range (1, len(db1)):\n",
    "    if (db1.loc[i, '1W lowQ'] == True) & (db1.loc[i - 1, '1W lowQ'] == True):\n",
    "        db1.loc[i, '1W lowQ'] = False \n"
   ]
  },
  {
   "cell_type": "code",
   "execution_count": 14,
   "metadata": {
    "collapsed": true,
    "scrolled": true
   },
   "outputs": [],
   "source": [
    "\n",
    "for i in range (1, len(db1)):\n",
    "    if (db1.loc[i, '1W lowQ'] == True) :\n",
    "        if db1.loc[i, 'SUPPLY'] < 10 :\n",
    "            db1.loc[i-1 , 'QTY'] = db1.loc[i-1 , 'QTY'] + db1.loc[i, 'QTY']\n",
    "            db1.loc[i , 'QTY'] = 0\n",
    "            db1.loc[i-1, 'STATUS'] = 'Revised'\n",
    "            db1.loc[i, 'STATUS'] = 'Removed'\n",
    "            \n",
    "        else:\n",
    "            db1.loc[i, 'QTY'] = db1.loc[i-1 , 'QTY'] + db1.loc[i, 'QTY']\n",
    "            db1.loc[i-1 , 'QTY'] = 0\n",
    "            db1.loc[i, 'STATUS'] = 'Revised'\n",
    "            db1.loc[i-1, 'STATUS'] = 'Removed'\n"
   ]
  },
  {
   "cell_type": "code",
   "execution_count": 15,
   "metadata": {
    "collapsed": true,
    "scrolled": true
   },
   "outputs": [],
   "source": [
    "\n",
    "for i in range (1, len(db1)):\n",
    "    if (db1.loc[i, '2W Prior'] == True) & (db1.loc[i, 'SUPPLY'] < 3) & (db1.loc[i, 'STATUS'] == 'Original') :\n",
    "        db1.loc[i - 1, 'QTY'] = db1.loc[i-1 , 'QTY'] = db1.loc[i-1 , 'QTY'] + db1.loc[i, 'QTY']\n",
    "        db1.loc[i , 'QTY'] = 0\n",
    "        db1.loc[i-1, 'STATUS'] = 'Revised'\n",
    "        db1.loc[i, 'STATUS'] = 'Removed'\n"
   ]
  },
  {
   "cell_type": "code",
   "execution_count": 16,
   "metadata": {
    "collapsed": true
   },
   "outputs": [],
   "source": [
    "# Create a Pandas Excel writer using XlsxWriter as the engine.\n",
    "writer = pd.ExcelWriter('Revised_RecShip.xlsx', engine='xlsxwriter')\n",
    "\n",
    "# Write each dataframe to a different worksheet.\n",
    "db1.to_excel(writer, sheet_name='revised')\n",
    "db.to_excel(writer, sheet_name='orig')\n",
    "\n",
    "# Close the Pandas Excel writer and output the Excel file.\n",
    "writer.save()"
   ]
  },
  {
   "cell_type": "code",
   "execution_count": null,
   "metadata": {
    "collapsed": true
   },
   "outputs": [],
   "source": []
  }
 ],
 "metadata": {
  "kernelspec": {
   "display_name": "Python 3",
   "language": "python",
   "name": "python3"
  },
  "language_info": {
   "codemirror_mode": {
    "name": "ipython",
    "version": 3
   },
   "file_extension": ".py",
   "mimetype": "text/x-python",
   "name": "python",
   "nbconvert_exporter": "python",
   "pygments_lexer": "ipython3",
   "version": "3.6.1"
  }
 },
 "nbformat": 4,
 "nbformat_minor": 2
}
